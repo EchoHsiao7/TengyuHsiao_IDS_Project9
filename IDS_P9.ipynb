{
  "nbformat": 4,
  "nbformat_minor": 0,
  "metadata": {
    "colab": {
      "provenance": [],
      "authorship_tag": "ABX9TyMfJKOKUTYdvvqtH041T4GI",
      "include_colab_link": true
    },
    "kernelspec": {
      "name": "python3",
      "display_name": "Python 3"
    },
    "language_info": {
      "name": "python"
    }
  },
  "cells": [
    {
      "cell_type": "markdown",
      "metadata": {
        "id": "view-in-github",
        "colab_type": "text"
      },
      "source": [
        "<a href=\"https://colab.research.google.com/github/EchoHsiao7/TengyuHsiao_IDS_Project9/blob/main/IDS_P9.ipynb\" target=\"_parent\"><img src=\"https://colab.research.google.com/assets/colab-badge.svg\" alt=\"Open In Colab\"/></a>"
      ]
    },
    {
      "cell_type": "code",
      "execution_count": 4,
      "metadata": {
        "colab": {
          "base_uri": "https://localhost:8080/",
          "height": 557
        },
        "id": "514tLTC90o2_",
        "outputId": "9b92c123-42ab-4eac-96a8-140b3018eb11"
      },
      "outputs": [
        {
          "output_type": "stream",
          "name": "stdout",
          "text": [
            "Summary Statistics for price:\n",
            "Mean: 17.519513333333332\n",
            "Median: 14.99\n",
            "Standard Deviation: 12.646611586491009\n",
            "Histogram saved as 'histogram.png'\n"
          ]
        },
        {
          "output_type": "display_data",
          "data": {
            "text/plain": [
              "<Figure size 640x480 with 1 Axes>"
            ],
            "image/png": "[encoded data removed]"
          },
          "metadata": {}
        }
      ],
      "source": [
        "import matplotlib.pyplot as plt\n",
        "import polars as pl\n",
        "\n",
        "def read_data(file):\n",
        "    df = pl.read_csv(file)\n",
        "    return df\n",
        "\n",
        "\n",
        "def generate_summary_statistics(dataframe, col_name):\n",
        "    # Mean\n",
        "    mean_value = dataframe[col_name].mean()\n",
        "    # Median\n",
        "    median_value = dataframe[col_name].median()\n",
        "    # Standard deviation\n",
        "    std_value = dataframe[col_name].std()\n",
        "\n",
        "    print(f\"Summary Statistics for {col_name}:\")\n",
        "    print(f\"Mean: {mean_value}\")\n",
        "    print(f\"Median: {median_value}\")\n",
        "    print(f\"Standard Deviation: {std_value}\")\n",
        "\n",
        "    return mean_value, median_value, std_value\n",
        "\n",
        "\n",
        "def create_visualization(dataframe, col_name):\n",
        "    data = dataframe[col_name].to_list()\n",
        "\n",
        "    plt.hist(data, bins=20, alpha=0.7, color=\"blue\")\n",
        "    plt.title(f\"Distribution of {col_name}\")\n",
        "    plt.xlabel(col_name)\n",
        "    plt.ylabel(\"Frequency\")\n",
        "    print(\"Histogram saved as 'histogram.png'\")\n",
        "    plt.show()\n",
        "\n",
        "\n",
        "if __name__ == \"__main__\":\n",
        "    input_file = \"Steam_2024_bestRevenue_1500.csv\"\n",
        "    df_data = read_data(input_file)\n",
        "    colname = \"price\"  # Replace with the actual column name\n",
        "    mean, median, std = generate_summary_statistics(df_data, colname)\n",
        "    create_visualization(df_data, colname)\n"
      ]
    },
    {
      "cell_type": "code",
      "source": [],
      "metadata": {
        "id": "ybrG6yGX1WQ0"
      },
      "execution_count": null,
      "outputs": []
    }
  ]
}